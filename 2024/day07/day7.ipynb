{
 "cells": [
  {
   "cell_type": "code",
   "execution_count": null,
   "id": "acadd286",
   "metadata": {},
   "outputs": [],
   "source": [
    "def check(nums: list, curr_value: int, curr_position: int, num_to_find: int):\n",
    "    if curr_position == len(nums):\n",
    "        return False\n",
    "    add = curr_value + nums[curr_position]\n",
    "    mul = curr_value * nums[curr_position]\n",
    "    if curr_position == len(nums)-1 and (add == num_to_find or mul == num_to_find):\n",
    "        return True\n",
    "    else:\n",
    "        return check(nums, add, curr_position + 1, num_to_find) or check(nums, mul, curr_position + 1, num_to_find)\n",
    "\n",
    "\n",
    "output = 0\n",
    "with open(\"input\") as f:\n",
    "    for line in f:\n",
    "        value = int(line.split(\":\")[0])\n",
    "        nums = [int(n) for n in line.split(\":\")[1].strip().split(\" \")]\n",
    "        if check(nums, nums[0], 1, value):\n",
    "            output += value\n",
    "\n",
    "print(output)\n"
   ]
  },
  {
   "cell_type": "code",
   "execution_count": null,
   "id": "10abeba9",
   "metadata": {},
   "outputs": [],
   "source": [
    "def check(nums: list, curr_value: int, curr_position: int, num_to_find: int):\n",
    "    if curr_position == len(nums):\n",
    "        return False\n",
    "    add = curr_value + nums[curr_position]\n",
    "    mul = curr_value * nums[curr_position]\n",
    "    con = int(str(curr_value) + str(nums[curr_position]))\n",
    "    if curr_position == len(nums)-1 and (add == num_to_find or mul == num_to_find or con == num_to_find):\n",
    "        return True\n",
    "    else:\n",
    "        return check(nums, add, curr_position + 1, num_to_find) or check(nums, mul, curr_position + 1, num_to_find) or check(nums, con, curr_position + 1, num_to_find)\n",
    "\n",
    "\n",
    "output = 0\n",
    "with open(\"input\") as f:\n",
    "    for line in f:\n",
    "        value = int(line.split(\":\")[0])\n",
    "        nums = [int(n) for n in line.split(\":\")[1].strip().split(\" \")]\n",
    "        if check(nums, nums[0], 1, value):\n",
    "            output += value\n",
    "\n",
    "print(output)\n"
   ]
  }
 ],
 "metadata": {
  "kernelspec": {
   "display_name": "Python 3",
   "language": "python",
   "name": "python3"
  },
  "language_info": {
   "codemirror_mode": {
    "name": "ipython",
    "version": 3
   },
   "file_extension": ".py",
   "mimetype": "text/x-python",
   "name": "python",
   "nbconvert_exporter": "python",
   "pygments_lexer": "ipython3",
   "version": "3.11.9"
  }
 },
 "nbformat": 4,
 "nbformat_minor": 5
}
