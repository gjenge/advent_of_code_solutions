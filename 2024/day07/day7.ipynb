{
 "cells": [
  {
   "cell_type": "code",
   "execution_count": null,
   "id": "acadd286",
   "metadata": {},
   "outputs": [
    {
     "data": {
      "text/plain": [
       "3749"
      ]
     },
     "execution_count": 4,
     "metadata": {},
     "output_type": "execute_result"
    }
   ],
   "source": [
    "def check(nums: list, curr_value: int, curr_position: int, num_to_find: int):\n",
    "    if curr_position == len(nums):\n",
    "        return False\n",
    "    add = curr_value + nums[curr_position]\n",
    "    mul = curr_value * nums[curr_position]\n",
    "    if(add == num_to_find):\n",
    "        return True\n",
    "    if(mul == num_to_find):\n",
    "        return True\n",
    "    if(add < num_to_find):\n",
    "        if check(nums, add, curr_position + 1, num_to_find):\n",
    "            return True\n",
    "    return check(nums, mul, curr_position + 1, num_to_find)\n",
    "    \n",
    "    \n",
    "output = 0\n",
    "with open(\"input\") as f:\n",
    "    for line in f:\n",
    "        value = int(line.split(\":\")[0])\n",
    "        nums = [int(n) for n in line.split(\":\")[1].replace(\": \", \"\").strip().split(\" \")]\n",
    "        if not (value == 0 and 0 in nums) and check(nums, nums[0], 1, value):\n",
    "            output += value\n",
    "            \n",
    "output\n",
    "        \n",
    "        "
   ]
  }
 ],
 "metadata": {
  "kernelspec": {
   "display_name": "Python 3",
   "language": "python",
   "name": "python3"
  },
  "language_info": {
   "codemirror_mode": {
    "name": "ipython",
    "version": 3
   },
   "file_extension": ".py",
   "mimetype": "text/x-python",
   "name": "python",
   "nbconvert_exporter": "python",
   "pygments_lexer": "ipython3",
   "version": "3.11.9"
  }
 },
 "nbformat": 4,
 "nbformat_minor": 5
}
