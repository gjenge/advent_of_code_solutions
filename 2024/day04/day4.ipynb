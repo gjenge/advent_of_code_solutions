{
 "cells": [
  {
   "cell_type": "code",
   "execution_count": null,
   "id": "1b55fd44",
   "metadata": {},
   "outputs": [],
   "source": [
    "directions = {\n",
    "    \"N\": lambda i, j: (i-1, j),\n",
    "    \"NE\": lambda i, j: (i-1, j+1),\n",
    "    \"E\": lambda i, j: (i, j+1),\n",
    "    \"SE\": lambda i, j: (i+1, j+1),\n",
    "    \"S\": lambda i, j: (i+1, j),\n",
    "    \"SO\": lambda i, j: (i+1, j-1),\n",
    "    \"O\": lambda i, j: (i, j-1),\n",
    "    \"NO\": lambda i, j: (i-1, j-1)\n",
    "}\n",
    "\n",
    "def count_XMAS_at_location(matrix: list[list[str]], i:int, j:int) -> int:\n",
    "    count = 0\n",
    "    if matrix[i][j] != \"X\":\n",
    "        return count\n",
    "    for dir in directions:\n",
    "        tmp_i = i\n",
    "        tmp_j = j\n",
    "        count_letters = 0\n",
    "        for c in [\"M\", \"A\", \"S\"]:\n",
    "            tmp_i, tmp_j = directions[dir](tmp_i, tmp_j)\n",
    "            try:\n",
    "                if matrix[tmp_i][tmp_j] != c or tmp_i < 0 or tmp_j < 0:\n",
    "                    break\n",
    "                else:\n",
    "                    count_letters += 1\n",
    "            except:\n",
    "                break\n",
    "        if count_letters == 3:\n",
    "            count += 1\n",
    "            print(dir, i, j)\n",
    "    return count\n",
    "\n",
    "with open(\"input\") as f:\n",
    "    result = 0\n",
    "    matrix = [list(line.strip()) for line in f]\n",
    "    for i in range(len(matrix)):\n",
    "        row = matrix[i]\n",
    "        for j in range(len(row)):\n",
    "            result += count_XMAS_at_location(matrix, i, j)\n",
    "result"
   ]
  },
  {
   "cell_type": "code",
   "execution_count": null,
   "id": "21c081ac",
   "metadata": {},
   "outputs": [],
   "source": [
    "def count_XMAS_at_location(matrix: list[list[str]], i:int, j:int) -> int:\n",
    "    if matrix[i][j] != \"A\":\n",
    "        return 0\n",
    "    if i < 1 or j < 1 or i == len(matrix) - 1 or j == len(matrix[i]) - 1:\n",
    "        return 0\n",
    "    diagonal = (matrix[i-1][j-1], matrix[i+1][j+1])\n",
    "    if not (\"M\" in diagonal and \"S\" in diagonal):\n",
    "        return 0\n",
    "    diagonal = (matrix[i-1][j+1], matrix[i+1][j-1])\n",
    "    if not (\"M\" in diagonal and \"S\" in diagonal):\n",
    "        return 0\n",
    "    \n",
    "    return 1\n",
    "   \n",
    "with open(\"input\") as f:\n",
    "    result = 0\n",
    "    matrix = [list(line.strip()) for line in f]\n",
    "    for i in range(len(matrix)):\n",
    "        row = matrix[i]\n",
    "        for j in range(len(row)):\n",
    "            result += count_XMAS_at_location(matrix, i, j)\n",
    "result"
   ]
  }
 ],
 "metadata": {
  "kernelspec": {
   "display_name": "Python 3",
   "language": "python",
   "name": "python3"
  },
  "language_info": {
   "codemirror_mode": {
    "name": "ipython",
    "version": 3
   },
   "file_extension": ".py",
   "mimetype": "text/x-python",
   "name": "python",
   "nbconvert_exporter": "python",
   "pygments_lexer": "ipython3",
   "version": "3.11.9"
  }
 },
 "nbformat": 4,
 "nbformat_minor": 5
}
