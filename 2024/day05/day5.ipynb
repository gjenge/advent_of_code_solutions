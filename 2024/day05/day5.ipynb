{
 "cells": [
  {
   "cell_type": "code",
   "execution_count": 18,
   "id": "35595134",
   "metadata": {},
   "outputs": [
    {
     "data": {
      "text/plain": [
       "6260"
      ]
     },
     "execution_count": 18,
     "metadata": {},
     "output_type": "execute_result"
    }
   ],
   "source": [
    "#PART 1\n",
    "prec_rules = {}\n",
    "sum = 0\n",
    "\n",
    "with open(\"input\") as f:\n",
    "    for line in f:\n",
    "        if \"|\" in line:\n",
    "            numbers = [int(num) for num in line.split(\"|\")]\n",
    "            if numbers[0] not in prec_rules:\n",
    "                prec_rules[numbers[0]] = set([numbers[1]])\n",
    "            else:\n",
    "                prec_rules[numbers[0]].add(numbers[1])\n",
    "        elif \",\" in line:\n",
    "            numbers = [int(num) for num in line.strip().split(\",\")]\n",
    "            numbers_encountered = set()\n",
    "            valid = True\n",
    "            for num in numbers:\n",
    "                if len(numbers_encountered.intersection(prec_rules.get(num, {}))) != 0:\n",
    "                    valid = False\n",
    "                    break\n",
    "                numbers_encountered.add(num)\n",
    "            if valid:\n",
    "                sum += numbers[len(numbers)//2 ]  \n",
    "                \n",
    "sum"
   ]
  },
  {
   "cell_type": "code",
   "execution_count": 37,
   "id": "0eedc423",
   "metadata": {},
   "outputs": [
    {
     "data": {
      "text/plain": [
       "5346"
      ]
     },
     "execution_count": 37,
     "metadata": {},
     "output_type": "execute_result"
    }
   ],
   "source": [
    "#PART 2\n",
    "from functools import cmp_to_key\n",
    "prec_rules = {}\n",
    "sum = 0\n",
    "\n",
    "def compare(n1:int, n2:int, prec_rules:dict):\n",
    "    if n1 == n2:\n",
    "        return 0\n",
    "    elif n2 in prec_rules.get(n1, {}):\n",
    "        return -1\n",
    "    else:\n",
    "        return 1\n",
    "\n",
    "with open(\"input\") as f:\n",
    "    for line in f:\n",
    "        if \"|\" in line:\n",
    "            numbers = [int(num) for num in line.split(\"|\")]\n",
    "            if numbers[0] not in prec_rules:\n",
    "                prec_rules[numbers[0]] = set([numbers[1]])\n",
    "            else:\n",
    "                prec_rules[numbers[0]].add(numbers[1])\n",
    "        elif \",\" in line:\n",
    "            numbers = [int(num) for num in line.strip().split(\",\")]\n",
    "            numbers_encountered = set()\n",
    "            valid=True\n",
    "            for num in numbers:\n",
    "                if len(numbers_encountered.intersection(prec_rules.get(num, {}))) != 0:\n",
    "                    valid = False\n",
    "                    ordered = sorted(numbers, key=cmp_to_key(lambda n1,n2 : compare(n1, n2, prec_rules)))\n",
    "                numbers_encountered.add(num)  \n",
    "            if not valid:\n",
    "                sum += ordered[len(numbers)//2]\n",
    "                \n",
    "sum"
   ]
  }
 ],
 "metadata": {
  "kernelspec": {
   "display_name": "Python 3",
   "language": "python",
   "name": "python3"
  },
  "language_info": {
   "codemirror_mode": {
    "name": "ipython",
    "version": 3
   },
   "file_extension": ".py",
   "mimetype": "text/x-python",
   "name": "python",
   "nbconvert_exporter": "python",
   "pygments_lexer": "ipython3",
   "version": "3.11.9"
  }
 },
 "nbformat": 4,
 "nbformat_minor": 5
}
