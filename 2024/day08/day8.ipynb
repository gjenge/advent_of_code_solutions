{
 "cells": [
  {
   "cell_type": "code",
   "execution_count": 21,
   "id": "acadd286",
   "metadata": {},
   "outputs": [
    {
     "data": {
      "text/plain": [
       "423"
      ]
     },
     "execution_count": 21,
     "metadata": {},
     "output_type": "execute_result"
    }
   ],
   "source": [
    "#get antinode of a1 relative to a2\n",
    "def get_antinode_position(a1: tuple, a2: tuple) -> tuple:\n",
    "    i1 = a1[0]\n",
    "    j1 = a1[1]\n",
    "    i2 = a2[0]\n",
    "    j2 = a2[1]\n",
    "    \n",
    "    if i1 > i2:\n",
    "        antinode_i = i1 + abs(i1 - i2)\n",
    "    else:\n",
    "        antinode_i = i1 - abs(i1 - i2)\n",
    "    \n",
    "    if j1 > j2:\n",
    "        antinode_j = j1 + abs(j1 - j2)\n",
    "    else:\n",
    "        antinode_j = j1 - abs(j1 - j2)\n",
    "    \n",
    "    return (antinode_i, antinode_j)\n",
    "\n",
    "antennas = dict()\n",
    "\n",
    "with open(\"input\") as f:\n",
    "    matrix = [list(line.strip()) for line in f]\n",
    "    for i in range(len(matrix)):\n",
    "        for j in range(len(matrix[i])):\n",
    "            if matrix[i][j] != '.':\n",
    "                if not matrix[i][j] in antennas.keys():\n",
    "                    antennas[matrix[i][j]] = set()\n",
    "                antennas[matrix[i][j]].add((i, j))\n",
    "                \n",
    "possible_antinode_positions = set()\n",
    "                \n",
    "for frequency in antennas.keys():\n",
    "    for a1 in antennas[frequency]:\n",
    "        for a2 in antennas[frequency]:\n",
    "            if a1 != a2:\n",
    "                antinode = get_antinode_position(a1, a2)\n",
    "                if antinode[0] in range(len(matrix)) and antinode[1] in range(len(matrix[0])):\n",
    "                    possible_antinode_positions.add(antinode)\n",
    "                    \n",
    "len(possible_antinode_positions)"
   ]
  },
  {
   "cell_type": "code",
   "execution_count": 24,
   "id": "3da11591",
   "metadata": {},
   "outputs": [
    {
     "data": {
      "text/plain": [
       "1182"
      ]
     },
     "execution_count": 24,
     "metadata": {},
     "output_type": "execute_result"
    }
   ],
   "source": [
    "#get antinode of a1 relative to a2\n",
    "def get_antinode_position(a1: tuple, a2: tuple) -> tuple:\n",
    "    i1 = a1[0]\n",
    "    j1 = a1[1]\n",
    "    i2 = a2[0]\n",
    "    j2 = a2[1]\n",
    "    \n",
    "    if i1 > i2:\n",
    "        antinode_i = i1 + abs(i1 - i2)\n",
    "    else:\n",
    "        antinode_i = i1 - abs(i1 - i2)\n",
    "    \n",
    "    if j1 > j2:\n",
    "        antinode_j = j1 + abs(j1 - j2)\n",
    "    else:\n",
    "        antinode_j = j1 - abs(j1 - j2)\n",
    "    \n",
    "    return (antinode_i, antinode_j)\n",
    "\n",
    "def get_antinodes(a1: tuple, a2: tuple, bound_i: int, bound_j: int) -> tuple:\n",
    "    \n",
    "    ret = set()\n",
    "    curr = get_antinode_position(a1, a2)\n",
    "    prec = a1\n",
    "    while curr[0] in range(bound_i) and curr[1] in range(bound_j):\n",
    "        ret.add(curr)\n",
    "        tmp = get_antinode_position(curr, prec)\n",
    "        prec = curr\n",
    "        curr = tmp\n",
    "        \n",
    "    return ret\n",
    "\n",
    "antennas = dict()\n",
    "\n",
    "with open(\"input\") as f:\n",
    "    matrix = [list(line.strip()) for line in f]\n",
    "    for i in range(len(matrix)):\n",
    "        for j in range(len(matrix[i])):\n",
    "            if matrix[i][j] != '.':\n",
    "                if not matrix[i][j] in antennas.keys():\n",
    "                    antennas[matrix[i][j]] = set()\n",
    "                antennas[matrix[i][j]].add((i, j))\n",
    "                \n",
    "possible_antinode_positions = set()\n",
    "                \n",
    "for frequency in antennas.keys():\n",
    "    for a1 in antennas[frequency]:\n",
    "        for a2 in antennas[frequency]:\n",
    "            if a1 != a2:\n",
    "                possible_antinode_positions = possible_antinode_positions.union(get_antinodes(a1, a2, len(matrix), len(matrix[0])))\n",
    "                    \n",
    "len(possible_antinode_positions)"
   ]
  }
 ],
 "metadata": {
  "kernelspec": {
   "display_name": "Python 3",
   "language": "python",
   "name": "python3"
  },
  "language_info": {
   "codemirror_mode": {
    "name": "ipython",
    "version": 3
   },
   "file_extension": ".py",
   "mimetype": "text/x-python",
   "name": "python",
   "nbconvert_exporter": "python",
   "pygments_lexer": "ipython3",
   "version": "3.11.9"
  }
 },
 "nbformat": 4,
 "nbformat_minor": 5
}
