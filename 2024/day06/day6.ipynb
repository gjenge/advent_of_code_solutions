{
 "cells": [
  {
   "cell_type": "code",
   "execution_count": 56,
   "id": "70733c42",
   "metadata": {},
   "outputs": [
    {
     "data": {
      "text/plain": [
       "41"
      ]
     },
     "execution_count": 56,
     "metadata": {},
     "output_type": "execute_result"
    }
   ],
   "source": [
    "next_dir = {\n",
    "    'N': 'E',\n",
    "    'E': 'S',\n",
    "    'S': \"O\",\n",
    "    'O': 'N'\n",
    "}\n",
    "\n",
    "directions = {\n",
    "    \"N\": lambda i, j: (i-1, j),\n",
    "    \"E\": lambda i, j: (i, j+1),\n",
    "    \"S\": lambda i, j: (i+1, j),\n",
    "    \"O\": lambda i, j: (i, j-1)\n",
    "}\n",
    "\n",
    "dir = 'N'\n",
    "guard_position_i = 0\n",
    "guard_position_j = 0\n",
    "positions_visited = set()\n",
    "\n",
    "with open(\"input\") as f:\n",
    "    matrix = [list(line.strip()) for line in f]\n",
    "    for i in range(len(matrix)):\n",
    "        for j in range(len(matrix[i])):\n",
    "            if matrix[i][j] == '^':\n",
    "                guard_position_i = i\n",
    "                guard_position_j = j\n",
    "                matrix[i][j] = \".\"\n",
    "                \n",
    "\n",
    "                \n",
    "while guard_position_i in range(len(matrix)) and guard_position_j in range(len(matrix[0])):\n",
    "    positions_visited.add((guard_position_i,guard_position_j))\n",
    "    tmp_i, tmp_j = directions[dir](guard_position_i,guard_position_j)\n",
    "    if tmp_i in range(len(matrix)) and tmp_j in range(len(matrix[0])) and matrix[tmp_i][tmp_j] == '#':\n",
    "        dir = next_dir[dir]\n",
    "    else:\n",
    "        guard_position_i = tmp_i\n",
    "        guard_position_j = tmp_j\n",
    "                \n",
    "len(positions_visited)"
   ]
  },
  {
   "cell_type": "code",
   "execution_count": 70,
   "id": "acadd286",
   "metadata": {},
   "outputs": [
    {
     "data": {
      "text/plain": [
       "1729"
      ]
     },
     "execution_count": 70,
     "metadata": {},
     "output_type": "execute_result"
    }
   ],
   "source": [
    "next_dir = {\n",
    "    'N': 'E',\n",
    "    'E': 'S',\n",
    "    'S': \"O\",\n",
    "    'O': 'N'\n",
    "}\n",
    "\n",
    "directions = {\n",
    "    \"N\": lambda i, j: (i-1, j),\n",
    "    \"E\": lambda i, j: (i, j+1),\n",
    "    \"S\": lambda i, j: (i+1, j),\n",
    "    \"O\": lambda i, j: (i, j-1)\n",
    "}\n",
    "\n",
    "dir = 'N'\n",
    "guard_position_i = 0\n",
    "guard_position_j = 0\n",
    "start_position_i = 0\n",
    "start_position_j = 0\n",
    "positions_visited = set()\n",
    "obstacles_history = {\n",
    "    'N': set(),\n",
    "    'E': set(),\n",
    "    'S': set(),\n",
    "    'O': set()\n",
    "}\n",
    "                \n",
    "with open(\"input\") as f:\n",
    "    matrix = [list(line.strip()) for line in f]\n",
    "    for i in range(len(matrix)):\n",
    "        for j in range(len(matrix[i])):\n",
    "            if matrix[i][j] == '^':\n",
    "                start_position_i = i \n",
    "                guard_position_i = i\n",
    "                start_position_j = j\n",
    "                guard_position_j = j\n",
    "                matrix[i][j] = \".\"\n",
    "                \n",
    "possible_obstacles_for_loop = set()\n",
    "\n",
    "\n",
    "#First walk             \n",
    "while guard_position_i in range(len(matrix)) and guard_position_j in range(len(matrix[0])):\n",
    "    positions_visited.add((guard_position_i,guard_position_j))\n",
    "    tmp_i, tmp_j = directions[dir](guard_position_i,guard_position_j)\n",
    "    if tmp_i in range(len(matrix)) and tmp_j in range(len(matrix[0])) and matrix[tmp_i][tmp_j] == '#':\n",
    "        dir = next_dir[dir]\n",
    "    else:\n",
    "        guard_position_i = tmp_i\n",
    "        guard_position_j = tmp_j\n",
    "\n",
    "positions_visited.remove((start_position_i, start_position_j))    \n",
    "\n",
    "for pos in positions_visited:\n",
    "    guard_position_i = start_position_i\n",
    "    guard_position_j = start_position_j\n",
    "    dir = \"N\"\n",
    "    matrix[pos[0]][pos[1]] = \"#\"\n",
    "    obstacles_history[\"N\"].clear()\n",
    "    obstacles_history[\"E\"].clear()\n",
    "    obstacles_history[\"S\"].clear()\n",
    "    obstacles_history[\"O\"].clear()\n",
    "    while guard_position_i in range(len(matrix)) and guard_position_j in range(len(matrix[0])):\n",
    "        tmp_i, tmp_j = directions[dir](guard_position_i,guard_position_j)\n",
    "        if tmp_i in range(len(matrix)) and tmp_j in range(len(matrix[0])) and matrix[tmp_i][tmp_j] == '#':\n",
    "            if (tmp_i, tmp_j) in obstacles_history[dir]:\n",
    "                possible_obstacles_for_loop.add(pos)\n",
    "                break\n",
    "            else:\n",
    "                obstacles_history[dir].add((tmp_i,tmp_j))\n",
    "            dir = next_dir[dir]\n",
    "        else:\n",
    "            guard_position_i = tmp_i\n",
    "            guard_position_j = tmp_j\n",
    "    matrix[pos[0]][pos[1]] = \".\"\n",
    "    \n",
    "len(possible_obstacles_for_loop)\n",
    "    "
   ]
  },
  {
   "cell_type": "code",
   "execution_count": null,
   "id": "c4ac57a1",
   "metadata": {},
   "outputs": [],
   "source": []
  }
 ],
 "metadata": {
  "kernelspec": {
   "display_name": "Python 3",
   "language": "python",
   "name": "python3"
  },
  "language_info": {
   "codemirror_mode": {
    "name": "ipython",
    "version": 3
   },
   "file_extension": ".py",
   "mimetype": "text/x-python",
   "name": "python",
   "nbconvert_exporter": "python",
   "pygments_lexer": "ipython3",
   "version": "3.11.9"
  }
 },
 "nbformat": 4,
 "nbformat_minor": 5
}
