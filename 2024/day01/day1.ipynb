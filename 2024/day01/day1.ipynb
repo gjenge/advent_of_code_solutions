{
 "cells": [
  {
   "cell_type": "code",
   "execution_count": null,
   "id": "c7bb6822",
   "metadata": {},
   "outputs": [],
   "source": [
    "#PART 1\n",
    "\n",
    "import pandas as pd;\n",
    "\n",
    "df = pd.read_csv(\"input\", header=None, delimiter=\"\\t\")\n",
    "list1 = df[0].tolist()\n",
    "list2 = df[1].tolist()\n",
    "list1.sort()\n",
    "list2.sort()\n",
    "\n",
    "total_distance = 0\n",
    "for i in range(0, len(list1)):\n",
    "    total_distance = total_distance + (abs(list1[i] - list2[i]))\n",
    "\n",
    "print(total_distance)"
   ]
  },
  {
   "cell_type": "code",
   "execution_count": null,
   "id": "fe32934d",
   "metadata": {},
   "outputs": [],
   "source": [
    "#PART 2\n",
    "similarity = 0\n",
    "for i in range(0, len(list1)):\n",
    "    similarity = similarity + (list1[i] * list2.count(list1[i]))\n",
    "print(similarity)"
   ]
  }
 ],
 "metadata": {
  "kernelspec": {
   "display_name": "Python 3",
   "language": "python",
   "name": "python3"
  },
  "language_info": {
   "codemirror_mode": {
    "name": "ipython",
    "version": 3
   },
   "file_extension": ".py",
   "mimetype": "text/x-python",
   "name": "python",
   "nbconvert_exporter": "python",
   "pygments_lexer": "ipython3",
   "version": "3.11.9"
  }
 },
 "nbformat": 4,
 "nbformat_minor": 5
}
